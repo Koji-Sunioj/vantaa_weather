{
 "cells": [
  {
   "cell_type": "code",
   "execution_count": 6,
   "metadata": {
    "ExecuteTime": {
     "end_time": "2021-01-31T15:43:06.015195Z",
     "start_time": "2021-01-31T15:43:06.001346Z"
    }
   },
   "outputs": [],
   "source": [
    "import pandas as pd\n",
    "import pymysql\n",
    "import numpy as np\n",
    "import datetime\n",
    "import os\n",
    "\n",
    "#establish db connection\n",
    "con = pymysql.connect('localhost', 'root', 'HIDDEN', 'HIDDEN')"
   ]
  },
  {
   "cell_type": "markdown",
   "metadata": {},
   "source": [
    "<strong>This file is for merging all CSV files from Ilmatieteenlaitos.fi, containing detailed hourly weather station data from Vantaa airport. It then inserts the values into MySQL.</strong>"
   ]
  },
  {
   "cell_type": "code",
   "execution_count": 2,
   "metadata": {
    "ExecuteTime": {
     "end_time": "2021-01-31T15:41:27.538091Z",
     "start_time": "2021-01-31T15:41:27.516031Z"
    }
   },
   "outputs": [],
   "source": [
    "def merge_csv(files):\n",
    "    '''\n",
    "    Takes in list of file names in the immediate directory, filters them if .csv file, then returns a DataFrame.\n",
    "    \n",
    "    Parameters: \n",
    "        list: all values are (str) from immediate directory.\n",
    "    \n",
    "    Returns:\n",
    "        Pandas DataFrame containing:\n",
    "        Int64Index: 106656 entries, 97897 to 19007\n",
    "        Data columns (total 12 columns):\n",
    "         #   Column      Non-Null Count   Dtype         \n",
    "        ---  ------      --------------   -----         \n",
    "         0   timestamp   106656 non-null  datetime64[ns]\n",
    "         1   temp        106656 non-null  float64       \n",
    "         2   dew point   106656 non-null  float64       \n",
    "         3   humidity    106656 non-null  float64       \n",
    "         4   precip mm   106656 non-null  float64       \n",
    "         5   msl         106656 non-null  float64       \n",
    "         6   clouds      106656 non-null  float64       \n",
    "         7   visibility  106656 non-null  float64       \n",
    "         8   wind speed  106656 non-null  float64       \n",
    "         9   wind gust   106656 non-null  float64       \n",
    "         10  wind dir    106656 non-null  float64       \n",
    "         11  snow        106656 non-null  int64         \n",
    "        dtypes: datetime64[ns](1), float64(10), int64(1)\n",
    "    \n",
    "    '''\n",
    "    #pass file list to variable, filter if .csv. merge all file data together. sort index by date values.\n",
    "    files = os.listdir('.')\n",
    "    file_list = []\n",
    "\n",
    "    for file in files:\n",
    "        if 'csv' in file:\n",
    "            name = file[:9] \n",
    "            name = pd.read_csv(file)\n",
    "            file_list.append(name)\n",
    "            \n",
    "    merged = pd.concat(file_list)\n",
    "    merged = merged.reset_index(drop=True).sort_values(['Vuosi','Kk','Pv'])\n",
    "    \n",
    "    #combine date values to create datetime index, drop unneccesary columns\n",
    "    merged['timestamp'] = pd.to_datetime(merged[merged.columns[0]].astype(str) +'-'+ merged[merged.columns[1]].astype(str)  +'-'+ merged[merged.columns[2]].astype(str) +' '+ merged[merged.columns[3]].astype(str))\n",
    "    merged = merged.drop(columns=list(merged.columns[:5]))\n",
    "    merged = merged.drop(merged.columns[4], axis=1)\n",
    "    \n",
    "    #rename columns\n",
    "    merged = merged.rename(columns={merged.columns[0]:'clouds',merged.columns[1]:'msl',merged.columns[2]:'precip mm',merged.columns[3]:'humidity',merged.columns[4]:'snow',merged.columns[5]:'temp',merged.columns[6]:'dew point',merged.columns[7]:'visibility',merged.columns[8]:'wind dir',merged.columns[9]:'wind gust',merged.columns[10]:'wind speed'})\n",
    "\n",
    "    #some rows contain strings or a dash, filter those and reassign integer instead\n",
    "    merged.loc[merged['snow'].str.contains(\"^-$\",na=False,regex=True),'snow'] = 0\n",
    "    merged['snow'] = merged['snow'].fillna(0).astype(int)\n",
    "    merged.loc[merged['snow'] < 0,'snow']= 0\n",
    "    \n",
    "    #cloudiness is determined as an integer 1/8. some values are over 8 (fog), so reassign those values to be 8 instead.\n",
    "    merged.loc[merged['clouds'] > 8,'clouds'] = 8\n",
    "    \n",
    "    #some rows contain strings or a dash, filter those and reassign integer instead\n",
    "    merged.loc[merged['precip mm'].str.contains(\"^-$\",na=False,regex=True),'precip mm']  = 0\n",
    "    merged['precip mm'] = merged['precip mm'].astype(float)\n",
    "    merged.loc[merged['precip mm'] < 0,'precip mm']= 0\n",
    "    \n",
    "    #get percentage values of cloudiness instead of 1/8\n",
    "    merged['clouds'] = merged['clouds'] * 12.5\n",
    "    \n",
    "    #drop any duplicates, if any. resort columns, fill null values of rain and forward fill missing values in general.\n",
    "    merged = merged.drop_duplicates()\n",
    "    merged = merged[['timestamp','temp','dew point','humidity','precip mm','msl','clouds','visibility','wind speed','wind gust','wind dir','snow']]\n",
    "    merged['precip mm'] = merged['precip mm'].fillna(0)\n",
    "    merged = merged.fillna(method='pad')\n",
    "    \n",
    "    #return the completed DataFrame.\n",
    "    return merged"
   ]
  },
  {
   "cell_type": "code",
   "execution_count": 3,
   "metadata": {
    "ExecuteTime": {
     "end_time": "2021-01-31T15:41:29.462033Z",
     "start_time": "2021-01-31T15:41:27.930551Z"
    }
   },
   "outputs": [],
   "source": [
    "#assign variable name to completed dataframe from list of files\n",
    "merged = merge_csv(os.listdir('.'))"
   ]
  },
  {
   "cell_type": "code",
   "execution_count": 203,
   "metadata": {
    "ExecuteTime": {
     "end_time": "2021-01-01T21:50:32.191452Z",
     "start_time": "2021-01-01T21:50:32.183359Z"
    }
   },
   "outputs": [],
   "source": [
    "def update_db(merged):\n",
    "    '''\n",
    "    Takes in DataFrame merged from csv files, and inserts them to db.\n",
    "    \n",
    "    Parameters: \n",
    "        Pandas DataFrame containing:\n",
    "        Int64Index: 106656 entries, 97897 to 19007\n",
    "        Data columns (total 12 columns):\n",
    "         #   Column      Non-Null Count   Dtype         \n",
    "        ---  ------      --------------   -----         \n",
    "         0   timestamp   106656 non-null  datetime64[ns]\n",
    "         1   temp        106656 non-null  float64       \n",
    "         2   dew point   106656 non-null  float64       \n",
    "         3   humidity    106656 non-null  float64       \n",
    "         4   precip mm   106656 non-null  float64       \n",
    "         5   msl         106656 non-null  float64       \n",
    "         6   clouds      106656 non-null  float64       \n",
    "         7   visibility  106656 non-null  float64       \n",
    "         8   wind speed  106656 non-null  float64       \n",
    "         9   wind gust   106656 non-null  float64       \n",
    "         10  wind dir    106656 non-null  float64       \n",
    "         11  snow        106656 non-null  int64         \n",
    "        dtypes: datetime64[ns](1), float64(10), int64(1)\n",
    "        \n",
    "    Returns:\n",
    "        None\n",
    "    '''\n",
    "    #connect to db, assign variable to cursor method\n",
    "    con.connect()\n",
    "    insert_main = con.cursor()\n",
    "    \n",
    "    #cycle through all values and insert via stored procedure\n",
    "    for record,temp,dew,humid,precip, msl,clouds,visible,wind_speed,wind_gust,wind_dir,snow in merged.values:\n",
    "        insert_main.callproc('vantaa_weather_insert',(str(record),temp,dew,humid,precip, msl,clouds,visible,wind_speed,wind_gust,wind_dir,snow))\n",
    "    \n",
    "    #commit the db insertion\n",
    "    con.commit()"
   ]
  },
  {
   "cell_type": "code",
   "execution_count": 204,
   "metadata": {
    "ExecuteTime": {
     "end_time": "2021-01-01T21:51:29.431056Z",
     "start_time": "2021-01-01T21:50:33.744483Z"
    }
   },
   "outputs": [],
   "source": [
    "update_db(merged)"
   ]
  }
 ],
 "metadata": {
  "kernelspec": {
   "display_name": "Python 3",
   "language": "python",
   "name": "python3"
  },
  "language_info": {
   "codemirror_mode": {
    "name": "ipython",
    "version": 3
   },
   "file_extension": ".py",
   "mimetype": "text/x-python",
   "name": "python",
   "nbconvert_exporter": "python",
   "pygments_lexer": "ipython3",
   "version": "3.6.9"
  }
 },
 "nbformat": 4,
 "nbformat_minor": 2
}
