{
 "cells": [
  {
   "cell_type": "code",
   "execution_count": 73,
   "metadata": {
    "ExecuteTime": {
     "end_time": "2021-01-01T21:12:35.351409Z",
     "start_time": "2021-01-01T21:12:35.338370Z"
    }
   },
   "outputs": [],
   "source": [
    "import pandas as pd\n",
    "import pymysql\n",
    "import numpy as np\n",
    "import datetime\n",
    "import os\n",
    "\n",
    "con = pymysql.connect('localhost', 'root', 'Karelia', 'geo_data')"
   ]
  },
  {
   "cell_type": "code",
   "execution_count": 200,
   "metadata": {
    "ExecuteTime": {
     "end_time": "2021-01-01T21:50:00.824310Z",
     "start_time": "2021-01-01T21:50:00.800652Z"
    }
   },
   "outputs": [],
   "source": [
    "def merge_csv(files):\n",
    "    files = os.listdir('.')\n",
    "    file_list = []\n",
    "\n",
    "    for file in files:\n",
    "        if 'csv' in file:\n",
    "            name = file[:9] \n",
    "            name = pd.read_csv(file)\n",
    "            file_list.append(name)\n",
    "            \n",
    "    merged = pd.concat(file_list)\n",
    "    merged = merged.reset_index(drop=True).sort_values(['Vuosi','Kk','Pv'])\n",
    "\n",
    "    merged['timestamp'] = pd.to_datetime(merged[merged.columns[0]].astype(str) +'-'+ merged[merged.columns[1]].astype(str)  +'-'+ merged[merged.columns[2]].astype(str) +' '+ merged[merged.columns[3]].astype(str))\n",
    "    merged = merged.drop(columns=list(merged.columns[:5]))\n",
    "    merged = merged.drop(merged.columns[4], axis=1)\n",
    "\n",
    "    merged = merged.rename(columns={merged.columns[0]:'clouds',merged.columns[1]:'msl',merged.columns[2]:'precip mm',merged.columns[3]:'humidity',merged.columns[4]:'snow',merged.columns[5]:'temp',merged.columns[6]:'dew point',merged.columns[7]:'visibility',merged.columns[8]:'wind dir',merged.columns[9]:'wind gust',merged.columns[10]:'wind speed'})\n",
    "\n",
    "    merged.loc[merged['snow'].str.contains(\"^-$\",na=False,regex=True),'snow'] = 0\n",
    "    merged['snow'] = merged['snow'].fillna(0).astype(int)\n",
    "    merged.loc[merged['snow'] < 0,'snow']= 0\n",
    "\n",
    "    merged.loc[merged['clouds'] > 8,'clouds'] = 8\n",
    "\n",
    "    merged.loc[merged['precip mm'].str.contains(\"^-$\",na=False,regex=True),'precip mm']  = 0\n",
    "    merged['precip mm'] = merged['precip mm'].astype(float)\n",
    "    merged.loc[merged['precip mm'] < 0,'precip mm']= 0\n",
    "\n",
    "    merged['clouds'] = merged['clouds'] * 12.5\n",
    "\n",
    "    merged = merged.drop_duplicates()\n",
    "    merged = merged[['timestamp','temp','dew point','humidity','precip mm','msl','clouds','visibility','wind speed','wind gust','wind dir','snow']]\n",
    "    merged['precip mm'] = merged['precip mm'].fillna(0)\n",
    "    merged = merged.fillna(method='pad')\n",
    "    \n",
    "    return merged"
   ]
  },
  {
   "cell_type": "code",
   "execution_count": 202,
   "metadata": {
    "ExecuteTime": {
     "end_time": "2021-01-01T21:50:30.503887Z",
     "start_time": "2021-01-01T21:50:29.098772Z"
    }
   },
   "outputs": [],
   "source": [
    "merged = merge_csv(os.listdir('.'))"
   ]
  },
  {
   "cell_type": "code",
   "execution_count": 203,
   "metadata": {
    "ExecuteTime": {
     "end_time": "2021-01-01T21:50:32.191452Z",
     "start_time": "2021-01-01T21:50:32.183359Z"
    }
   },
   "outputs": [],
   "source": [
    "def update_db(merged):\n",
    "    con.connect()\n",
    "    insert_main = con.cursor()\n",
    "    \n",
    "    for record,temp,dew,humid,precip, msl,clouds,visible,wind_speed,wind_gust,wind_dir,snow in merged.values:\n",
    "        insert_main.callproc('vantaa_weather_insert',(str(record),temp,dew,humid,precip, msl,clouds,visible,wind_speed,wind_gust,wind_dir,snow))\n",
    "\n",
    "    con.commit()"
   ]
  },
  {
   "cell_type": "code",
   "execution_count": 204,
   "metadata": {
    "ExecuteTime": {
     "end_time": "2021-01-01T21:51:29.431056Z",
     "start_time": "2021-01-01T21:50:33.744483Z"
    }
   },
   "outputs": [],
   "source": [
    "update_db(merged)"
   ]
  },
  {
   "cell_type": "code",
   "execution_count": null,
   "metadata": {},
   "outputs": [],
   "source": []
  }
 ],
 "metadata": {
  "kernelspec": {
   "display_name": "Python 3",
   "language": "python",
   "name": "python3"
  },
  "language_info": {
   "codemirror_mode": {
    "name": "ipython",
    "version": 3
   },
   "file_extension": ".py",
   "mimetype": "text/x-python",
   "name": "python",
   "nbconvert_exporter": "python",
   "pygments_lexer": "ipython3",
   "version": "3.6.9"
  }
 },
 "nbformat": 4,
 "nbformat_minor": 2
}
